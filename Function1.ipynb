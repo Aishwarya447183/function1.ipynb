{
 "cells": [
  {
   "cell_type": "code",
   "execution_count": 1,
   "id": "d7e1b279-0328-4596-958a-03fc18d5097a",
   "metadata": {},
   "outputs": [],
   "source": [
    "\n",
    "#Q1.#def keyword\n",
    "\n",
    "a=[1,2,3,4,5,6,7,8,9,10,11,12,13,14,15,16,17,18,19,20,21,22,23,24,25]\n",
    "def test1(a):\n",
    "    n=[]\n",
    "    for i in a:\n",
    "        if type(i) % 2 == 0:\n",
    "            \n",
    "            n.append(i)\n",
    "        \n",
    "    return n\n",
    "(1,3,5,7,9,11,13,15,17,19,21,23,25)"
   ]
  },
  {
   "cell_type": "code",
   "execution_count": 3,
   "id": "92acba39-d072-44bf-a049-01e94ce6626e",
   "metadata": {},
   "outputs": [],
   "source": [
    "##Q2.Reason:We use *args and **kwargs as an argument when we are unsure about the number of arguments to pass in the functions.\n",
    "#*args passes variable number of non-keyworded arguments and on which operation of the tuple can be performed. **kwargs passes variable number of keyword arguments dictionary to function on which operation of a dictionary can be performed. *args and **kwargs make the function flexible.\n",
    "def test1(*args): \n",
    "    return args"
   ]
  },
  {
   "cell_type": "code",
   "execution_count": 4,
   "id": "ed15ea67-6835-480d-b971-fb14a092ea42",
   "metadata": {},
   "outputs": [
    {
     "data": {
      "text/plain": [
       "(2,)"
      ]
     },
     "execution_count": 4,
     "metadata": {},
     "output_type": "execute_result"
    }
   ],
   "source": [
    "test1(2)"
   ]
  },
  {
   "cell_type": "code",
   "execution_count": 6,
   "id": "1ae6daa1-14f7-4b56-9dbe-f55334eec307",
   "metadata": {},
   "outputs": [],
   "source": [
    "def test2(**kwargs):\n",
    "    return kwargs"
   ]
  },
  {
   "cell_type": "code",
   "execution_count": 7,
   "id": "717cc5c6-a097-449b-89bb-6409ebf51921",
   "metadata": {},
   "outputs": [
    {
     "data": {
      "text/plain": [
       "{}"
      ]
     },
     "execution_count": 7,
     "metadata": {},
     "output_type": "execute_result"
    }
   ],
   "source": [
    "test2()"
   ]
  },
  {
   "cell_type": "code",
   "execution_count": 8,
   "id": "4d019da3-3680-4ea8-ab0d-62774a333982",
   "metadata": {},
   "outputs": [],
   "source": [
    "#Q3. \n",
    "#An iterator is an object that contains a countable number of values. An iterator is an object that can be iterated upon, meaning that you can traverse through all the values. Technically, in Python, an iterator is an object which implements the iterator protocol, which consist of the methods __iter__() and __next__() ."
   ]
  },
  {
   "cell_type": "code",
   "execution_count": 9,
   "id": "8229740c-ad7f-42ef-9f51-bd8ba4d2d85a",
   "metadata": {},
   "outputs": [],
   "source": [
    "nums=[2, 4, 6, 8, 10, 12, 14, 16,18, 20]\n",
    "\n",
    "it=iter(nums)\n"
   ]
  },
  {
   "cell_type": "code",
   "execution_count": 10,
   "id": "94ecf80c-6e42-40c0-a155-f446ab3cf3c2",
   "metadata": {},
   "outputs": [
    {
     "name": "stdout",
     "output_type": "stream",
     "text": [
      "2\n"
     ]
    }
   ],
   "source": [
    "print(it.__next__())"
   ]
  },
  {
   "cell_type": "code",
   "execution_count": 11,
   "id": "aaee1a86-9238-447d-90bf-4c2394d578d0",
   "metadata": {},
   "outputs": [
    {
     "name": "stdout",
     "output_type": "stream",
     "text": [
      "4\n"
     ]
    }
   ],
   "source": [
    "print(it.__next__())"
   ]
  },
  {
   "cell_type": "code",
   "execution_count": 12,
   "id": "78bb22c4-4dda-40f3-a759-5de81381f115",
   "metadata": {},
   "outputs": [
    {
     "name": "stdout",
     "output_type": "stream",
     "text": [
      "6\n"
     ]
    }
   ],
   "source": [
    "print(it.__next__())"
   ]
  },
  {
   "cell_type": "code",
   "execution_count": 13,
   "id": "1d2fb715-3cfe-4fee-840f-2d2f7f578ee7",
   "metadata": {},
   "outputs": [
    {
     "name": "stdout",
     "output_type": "stream",
     "text": [
      "8\n"
     ]
    }
   ],
   "source": [
    "print(it.__next__())"
   ]
  },
  {
   "cell_type": "code",
   "execution_count": 14,
   "id": "58af98b8-167f-40f3-854b-0224caad3210",
   "metadata": {},
   "outputs": [
    {
     "name": "stdout",
     "output_type": "stream",
     "text": [
      "10\n"
     ]
    }
   ],
   "source": [
    "print(it.__next__())"
   ]
  },
  {
   "cell_type": "code",
   "execution_count": 15,
   "id": "31a07b5c-eaf0-4bef-bf58-dd9e3af0cf92",
   "metadata": {},
   "outputs": [],
   "source": [
    "#Q4.\n",
    "#Generator functions provide a powerful alternative: they allow you to define an iterative algorithm by writing a single function whose execution is not continuous\n",
    "#The yield keyword pauses generator function execution and the value of the expression following the yield keyword is returned to the generator's caller"
   ]
  },
  {
   "cell_type": "code",
   "execution_count": 16,
   "id": "92515d65-3ed6-47bb-bd4f-d7493a15c70f",
   "metadata": {},
   "outputs": [
    {
     "data": {
      "text/plain": [
       "range(1, 10)"
      ]
     },
     "execution_count": 16,
     "metadata": {},
     "output_type": "execute_result"
    }
   ],
   "source": [
    "#Example for generator function\n",
    "range(1,10)"
   ]
  },
  {
   "cell_type": "code",
   "execution_count": 17,
   "id": "20e3f999-706d-4c75-8e28-6970a5a7efc0",
   "metadata": {},
   "outputs": [
    {
     "name": "stdout",
     "output_type": "stream",
     "text": [
      "1\n",
      "2\n",
      "3\n",
      "4\n",
      "5\n",
      "6\n",
      "7\n",
      "8\n",
      "9\n"
     ]
    }
   ],
   "source": [
    "for i in range (1,10):\n",
    "    print(i)"
   ]
  },
  {
   "cell_type": "code",
   "execution_count": 18,
   "id": "e3f34ba2-ea51-4a6d-8cd6-e55d1d847c45",
   "metadata": {},
   "outputs": [],
   "source": [
    "###Q5.Create a generator function for prime numbers less than 1000. Use the next() method to print the first 20 prime numbers.\n",
    "# Prime numbers less than 1000\n",
    "primes=[]\n",
    "for possibleprime in range(2,1000):\n",
    "    \n",
    "    isprime = True\n",
    "    for num in range (2, possibleprime):\n",
    "        if possibleprime % num == 0:\n",
    "            isprime=False\n",
    "    \n",
    "    if isprime:\n",
    "        primes.append(possibleprime)"
   ]
  },
  {
   "cell_type": "code",
   "execution_count": 19,
   "id": "86478fb9-f07c-4678-be8d-bbc686da2342",
   "metadata": {},
   "outputs": [
    {
     "data": {
      "text/plain": [
       "[2,\n",
       " 3,\n",
       " 5,\n",
       " 7,\n",
       " 11,\n",
       " 13,\n",
       " 17,\n",
       " 19,\n",
       " 23,\n",
       " 29,\n",
       " 31,\n",
       " 37,\n",
       " 41,\n",
       " 43,\n",
       " 47,\n",
       " 53,\n",
       " 59,\n",
       " 61,\n",
       " 67,\n",
       " 71,\n",
       " 73,\n",
       " 79,\n",
       " 83,\n",
       " 89,\n",
       " 97,\n",
       " 101,\n",
       " 103,\n",
       " 107,\n",
       " 109,\n",
       " 113,\n",
       " 127,\n",
       " 131,\n",
       " 137,\n",
       " 139,\n",
       " 149,\n",
       " 151,\n",
       " 157,\n",
       " 163,\n",
       " 167,\n",
       " 173,\n",
       " 179,\n",
       " 181,\n",
       " 191,\n",
       " 193,\n",
       " 197,\n",
       " 199,\n",
       " 211,\n",
       " 223,\n",
       " 227,\n",
       " 229,\n",
       " 233,\n",
       " 239,\n",
       " 241,\n",
       " 251,\n",
       " 257,\n",
       " 263,\n",
       " 269,\n",
       " 271,\n",
       " 277,\n",
       " 281,\n",
       " 283,\n",
       " 293,\n",
       " 307,\n",
       " 311,\n",
       " 313,\n",
       " 317,\n",
       " 331,\n",
       " 337,\n",
       " 347,\n",
       " 349,\n",
       " 353,\n",
       " 359,\n",
       " 367,\n",
       " 373,\n",
       " 379,\n",
       " 383,\n",
       " 389,\n",
       " 397,\n",
       " 401,\n",
       " 409,\n",
       " 419,\n",
       " 421,\n",
       " 431,\n",
       " 433,\n",
       " 439,\n",
       " 443,\n",
       " 449,\n",
       " 457,\n",
       " 461,\n",
       " 463,\n",
       " 467,\n",
       " 479,\n",
       " 487,\n",
       " 491,\n",
       " 499,\n",
       " 503,\n",
       " 509,\n",
       " 521,\n",
       " 523,\n",
       " 541,\n",
       " 547,\n",
       " 557,\n",
       " 563,\n",
       " 569,\n",
       " 571,\n",
       " 577,\n",
       " 587,\n",
       " 593,\n",
       " 599,\n",
       " 601,\n",
       " 607,\n",
       " 613,\n",
       " 617,\n",
       " 619,\n",
       " 631,\n",
       " 641,\n",
       " 643,\n",
       " 647,\n",
       " 653,\n",
       " 659,\n",
       " 661,\n",
       " 673,\n",
       " 677,\n",
       " 683,\n",
       " 691,\n",
       " 701,\n",
       " 709,\n",
       " 719,\n",
       " 727,\n",
       " 733,\n",
       " 739,\n",
       " 743,\n",
       " 751,\n",
       " 757,\n",
       " 761,\n",
       " 769,\n",
       " 773,\n",
       " 787,\n",
       " 797,\n",
       " 809,\n",
       " 811,\n",
       " 821,\n",
       " 823,\n",
       " 827,\n",
       " 829,\n",
       " 839,\n",
       " 853,\n",
       " 857,\n",
       " 859,\n",
       " 863,\n",
       " 877,\n",
       " 881,\n",
       " 883,\n",
       " 887,\n",
       " 907,\n",
       " 911,\n",
       " 919,\n",
       " 929,\n",
       " 937,\n",
       " 941,\n",
       " 947,\n",
       " 953,\n",
       " 967,\n",
       " 971,\n",
       " 977,\n",
       " 983,\n",
       " 991,\n",
       " 997]"
      ]
     },
     "execution_count": 19,
     "metadata": {},
     "output_type": "execute_result"
    }
   ],
   "source": [
    "primes"
   ]
  },
  {
   "cell_type": "code",
   "execution_count": 20,
   "id": "d6663518-7c16-409c-83d4-47344558fc61",
   "metadata": {},
   "outputs": [],
   "source": [
    "#Use the next() method to print the first 20 prime numbers.\n",
    "primes=[2, 3,5,7,11,13,17,19,23,29,31,41,43,53,59,61,67,71,73,79]\n",
    "\n",
    "it=iter(primes)\n"
   ]
  },
  {
   "cell_type": "code",
   "execution_count": 21,
   "id": "3658c295-3c07-4439-a5ff-22b1d3e68f8c",
   "metadata": {},
   "outputs": [
    {
     "data": {
      "text/plain": [
       "[2, 3, 5, 7, 11, 13, 17, 19, 23, 29, 31, 41, 43, 53, 59, 61, 67, 71, 73, 79]"
      ]
     },
     "execution_count": 21,
     "metadata": {},
     "output_type": "execute_result"
    }
   ],
   "source": [
    "primes"
   ]
  }
 ],
 "metadata": {
  "kernelspec": {
   "display_name": "Python 3 (ipykernel)",
   "language": "python",
   "name": "python3"
  },
  "language_info": {
   "codemirror_mode": {
    "name": "ipython",
    "version": 3
   },
   "file_extension": ".py",
   "mimetype": "text/x-python",
   "name": "python",
   "nbconvert_exporter": "python",
   "pygments_lexer": "ipython3",
   "version": "3.10.8"
  }
 },
 "nbformat": 4,
 "nbformat_minor": 5
}
